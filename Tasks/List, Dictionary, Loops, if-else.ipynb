{
 "cells": [
  {
   "cell_type": "markdown",
   "metadata": {},
   "source": [
    "#### Scenario 1: Grocery Shopping List\n",
    "You are creating a program to manage a grocery shopping list. Users should be able to add items, \n",
    "remove items, and display the current list."
   ]
  },
  {
   "cell_type": "code",
   "execution_count": null,
   "metadata": {},
   "outputs": [],
   "source": [
    "shopping_list = []\n",
    "\n",
    "while True:\n",
    "    print(\"\\nOptions:\")\n",
    "    print(\"1. Add item to the shopping list\")\n",
    "    print(\"2. Remove item from the shopping list\")\n",
    "    print(\"3. Display current shopping list\")\n",
    "    print(\"4. Quit\")\n",
    "\n",
    "    choice = input(\"Enter your choice (1-4): \")\n",
    "\n",
    "    if choice == \"1\":\n",
    "        item = input(\"Enter the item to add: \")\n",
    "        shopping_list.append(item)\n",
    "        print(f\"{item} added to the shopping list.\")\n",
    "    elif choice == \"2\":\n",
    "        item = input(\"Enter the item to remove: \")\n",
    "        if item in shopping_list:\n",
    "            shopping_list.remove(item)\n",
    "            print(f\"{item} removed from the shopping list.\")\n",
    "        else:\n",
    "            print(f\"{item} not found in the shopping list.\")\n",
    "    elif choice == \"3\":\n",
    "        if not shopping_list:\n",
    "            print(\"The shopping list is empty.\")\n",
    "        else:\n",
    "            print(\"Current shopping list:\")\n",
    "            for item in shopping_list:\n",
    "                print(f\"- {item}\")\n",
    "    elif choice == \"4\":\n",
    "        print(\"Exiting the program. Goodbye!\")\n",
    "        break\n",
    "    else:\n",
    "        print(\"Invalid choice. Please enter a number between 1 and 4.\")\n"
   ]
  },
  {
   "cell_type": "markdown",
   "metadata": {},
   "source": [
    "#### Scenario 2: Student Grades\n",
    "You are managing student grades using a dictionary. You need to calculate the average grade.take \n",
    "atleast 5 Students grades & then calculate the average.\n"
   ]
  },
  {
   "cell_type": "code",
   "execution_count": null,
   "metadata": {},
   "outputs": [],
   "source": [
    "# Initialize an empty dictionary to store student grades\n",
    "student_grades = {}\n",
    "\n",
    "# Input grades for at least 5 students\n",
    "for i in range(1, 6):\n",
    "    student_name = input(f\"Enter the name of Student {i}: \")\n",
    "    grade = float(input(f\"Enter the grade for {student_name}: \"))\n",
    "    student_grades[student_name] = grade\n",
    "\n",
    "# Calculate the average grade\n",
    "total_grades = sum(student_grades.values())\n",
    "average_grade = total_grades / len(student_grades)\n",
    "\n",
    "# Display individual grades and the average\n",
    "print(\"\\nIndividual Grades:\")\n",
    "for student, grade in student_grades.items():\n",
    "    print(f\"{student}: {grade}\")\n",
    "\n",
    "print(f\"\\nAverage Grade: {average_grade}\")\n"
   ]
  },
  {
   "cell_type": "markdown",
   "metadata": {},
   "source": [
    "#### Scenario 3: Word Frequency Counter\n",
    "You are given a list of words, and you need to count the frequency of each word.\n",
    "word_list = [\"apple\", \"banana\", \"apple\", \"orange\", \"banana\", \"grape\", \"apple\"]"
   ]
  },
  {
   "cell_type": "code",
   "execution_count": null,
   "metadata": {},
   "outputs": [],
   "source": [
    "word_list = [\"apple\", \"banana\", \"apple\", \"orange\", \"banana\", \"grape\", \"apple\"]\n",
    "\n",
    "word_frequency = {}\n",
    "\n",
    "# Count the frequency of each word\n",
    "for word in word_list:\n",
    "    if word in word_frequency:\n",
    "        word_frequency[word] += 1\n",
    "    else:\n",
    "        word_frequency[word] = 1\n",
    "\n",
    "# Display the word frequencies\n",
    "print(\"Word Frequencies:\")\n",
    "for available_item, frequency in word_frequency.items():\n",
    "    print(f\"{available_item} : {frequency}\")"
   ]
  },
  {
   "cell_type": "markdown",
   "metadata": {},
   "source": [
    "#### Scenario 3: Password Strength Checker\n",
    "You are creating a program to check the strength of passwords based on certain criteria.\n",
    "• Password should be at least 8 characters long.\n",
    "• Password should contain at least one digit.\n",
    "• Password should contain at least one letter."
   ]
  },
  {
   "cell_type": "code",
   "execution_count": 4,
   "metadata": {},
   "outputs": [
    {
     "name": "stdout",
     "output_type": "stream",
     "text": [
      "Password is not strong. Please ensure it meets the criteria.\n"
     ]
    }
   ],
   "source": [
    "def is_password_strong(password):\n",
    "    if len(password) < 8:\n",
    "        return False\n",
    "\n",
    "    if not any(char.isdigit() for char in password):\n",
    "        return False\n",
    "\n",
    "    if not any(char.isalpha() for char in password):\n",
    "        return False\n",
    "\n",
    "    return True\n",
    "\n",
    "def main():\n",
    "    password = input(\"Enter your password: \")\n",
    "\n",
    "    if is_password_strong(password):\n",
    "        print(\"Password is strong!\")\n",
    "    else:\n",
    "        print(\"Password is not strong. Please ensure it meets the criteria.\")\n",
    "\n",
    "main()"
   ]
  }
 ],
 "metadata": {
  "kernelspec": {
   "display_name": "Python 3 (ipykernel)",
   "language": "python",
   "name": "python3"
  },
  "language_info": {
   "codemirror_mode": {
    "name": "ipython",
    "version": 3
   },
   "file_extension": ".py",
   "mimetype": "text/x-python",
   "name": "python",
   "nbconvert_exporter": "python",
   "pygments_lexer": "ipython3",
   "version": "3.11.5"
  }
 },
 "nbformat": 4,
 "nbformat_minor": 2
}
