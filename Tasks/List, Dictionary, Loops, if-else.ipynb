{
 "cells": [
  {
   "cell_type": "markdown",
   "metadata": {},
   "source": [
    "#### Scenario 1: Grocery Shopping List\n",
    "You are creating a program to manage a grocery shopping list. Users should be able to add items, \n",
    "remove items, and display the current list."
   ]
  },
  {
   "cell_type": "code",
   "execution_count": null,
   "metadata": {},
   "outputs": [],
   "source": [
    "shopping_list = []\n",
    "\n",
    "while True:\n",
    "    print(\"\\nOptions:\")\n",
    "    print(\"1. Add item to the shopping list\")\n",
    "    print(\"2. Remove item from the shopping list\")\n",
    "    print(\"3. Display current shopping list\")\n",
    "    print(\"4. Quit\")\n",
    "\n",
    "    choice = input(\"Enter your choice (1-4): \")\n",
    "\n",
    "    if choice == \"1\":\n",
    "        item = input(\"Enter the item to add: \")\n",
    "        shopping_list.append(item)\n",
    "        print(f\"{item} added to the shopping list.\")\n",
    "    elif choice == \"2\":\n",
    "        item = input(\"Enter the item to remove: \")\n",
    "        if item in shopping_list:\n",
    "            shopping_list.remove(item)\n",
    "            print(f\"{item} removed from the shopping list.\")\n",
    "        else:\n",
    "            print(f\"{item} not found in the shopping list.\")\n",
    "    elif choice == \"3\":\n",
    "        if not shopping_list:\n",
    "            print(\"The shopping list is empty.\")\n",
    "        else:\n",
    "            print(\"Current shopping list:\")\n",
    "            for item in shopping_list:\n",
    "                print(f\"- {item}\")\n",
    "    elif choice == \"4\":\n",
    "        print(\"Exiting the program. Goodbye!\")\n",
    "        break\n",
    "    else:\n",
    "        print(\"Invalid choice. Please enter a number between 1 and 4.\")\n"
   ]
  },
  {
   "cell_type": "markdown",
   "metadata": {},
   "source": [
    "#### Scenario 2: Student Grades\n",
    "You are managing student grades using a dictionary. You need to calculate the average grade.take \n",
    "atleast 5 Students grades & then calculate the average.\n"
   ]
  },
  {
   "cell_type": "code",
   "execution_count": null,
   "metadata": {},
   "outputs": [],
   "source": [
    "# Initialize an empty dictionary to store student grades\n",
    "student_grades = {}\n",
    "\n",
    "# Input grades for at least 5 students\n",
    "for i in range(1, 6):\n",
    "    student_name = input(f\"Enter the name of Student {i}: \")\n",
    "    grade = float(input(f\"Enter the grade for {student_name}: \"))\n",
    "    student_grades[student_name] = grade\n",
    "\n",
    "# Calculate the average grade\n",
    "total_grades = sum(student_grades.values())\n",
    "average_grade = total_grades / len(student_grades)\n",
    "\n",
    "# Display individual grades and the average\n",
    "print(\"\\nIndividual Grades:\")\n",
    "for student, grade in student_grades.items():\n",
    "    print(f\"{student}: {grade}\")\n",
    "\n",
    "print(f\"\\nAverage Grade: {average_grade}\")\n"
   ]
  },
  {
   "cell_type": "markdown",
   "metadata": {},
   "source": [
    "#### Scenario 3: Word Frequency Counter\n",
    "You are given a list of words, and you need to count the frequency of each word.\n",
    "word_list = [\"apple\", \"banana\", \"apple\", \"orange\", \"banana\", \"grape\", \"apple\"]"
   ]
  },
  {
   "cell_type": "code",
   "execution_count": null,
   "metadata": {},
   "outputs": [],
   "source": [
    "word_list = [\"apple\", \"banana\", \"apple\", \"orange\", \"banana\", \"grape\", \"apple\"]\n",
    "\n",
    "word_frequency = {}\n",
    "\n",
    "# Count the frequency of each word\n",
    "for word in word_list:\n",
    "    if word in word_frequency:\n",
    "        word_frequency[word] += 1\n",
    "    else:\n",
    "        word_frequency[word] = 1\n",
    "\n",
    "# Display the word frequencies\n",
    "print(\"Word Frequencies:\")\n",
    "for available_item, frequency in word_frequency.items():\n",
    "    print(f\"{available_item} : {frequency}\")"
   ]
  },
  {
   "cell_type": "markdown",
   "metadata": {},
   "source": [
    "#### Scenario 3: Password Strength Checker\n",
    "You are creating a program to check the strength of passwords based on certain criteria.\n",
    "• Password should be at least 8 characters long.\n",
    "• Password should contain at least one digit.\n",
    "• Password should contain at least one letter."
   ]
  },
  {
   "cell_type": "code",
   "execution_count": 4,
   "metadata": {},
   "outputs": [
    {
     "name": "stdout",
     "output_type": "stream",
     "text": [
      "Password is not strong. Please ensure it meets the criteria.\n"
     ]
    }
   ],
   "source": [
    "def is_password_strong(password):\n",
    "    if len(password) < 8:\n",
    "        return False\n",
    "\n",
    "    if not any(char.isdigit() for char in password):\n",
    "        return False\n",
    "\n",
    "    if not any(char.isalpha() for char in password):\n",
    "        return False\n",
    "\n",
    "    return True\n",
    "\n",
    "def main():\n",
    "    password = input(\"Enter your password: \")\n",
    "\n",
    "    if is_password_strong(password):\n",
    "        print(\"Password is strong!\")\n",
    "    else:\n",
    "        print(\"Password is not strong. Please ensure it meets the criteria.\")\n",
    "\n",
    "main()"
   ]
  },
  {
   "cell_type": "code",
   "execution_count": null,
   "metadata": {},
   "outputs": [],
   "source": []
  },
  {
   "cell_type": "markdown",
   "metadata": {},
   "source": [
    "#### Scenario 04: Voting System (Annual Employee Recognition Awards)\n",
    "You are developing a simple voting system for a contest. Users can vote for their Favorite option, and \n",
    "you need to count the votes.\n",
    "\n",
    "In a corporate setting, the HR department is organizing the Annual Employee Recognition Awards, \n",
    "where employees get the opportunity to vote for their colleagues nominated in different categories. \n",
    "The HR team has decided to use a simple voting system to collect and tally votes for the nominees in \n",
    "various award categories. The script provided will be utilized for this purpose.\n",
    "\n",
    "Candidates: The nominees for different award categories, such as \"Employee of the Year,\" \"Team \n",
    "Player of the Year,\" and \"Innovation Award,\" are represented by the list of candidates: 'Candidate A,' \n",
    "'Candidate B,' and 'Candidate C.'\n",
    "\n",
    "Voting Process: Employees are requested to input the number of voters participating in the awards. \n",
    "Each voter is presented with a list of nominees, and they can vote for their preferred candidate by \n",
    "entering the corresponding number.\n",
    "\n",
    "Validation: The script ensures that the entered vote is within the valid range of candidates. If an \n",
    "employee enters an invalid vote, the system prompts them to choose a valid candidate.\n",
    "Recording Votes: The script records each vote for the selected candidate and prints a confirmation \n",
    "message indicating that the vote has been recorded.\n",
    "\n",
    "Results Display: Once all votes are collected, the system displays the voting results, showing the \n",
    "number of votes each candidate received in each category.\n",
    "\n",
    "Award Winners: Based on the voting results, the HR department can identify the winners for each \n",
    "award category and proceed with recognizing and rewarding the selected employees during the \n",
    "Annual Employee Recognition Ceremony.\n",
    "\n",
    "This script provides a straightforward and transparent way for employees to participate in the \n",
    "recognition process, fostering a sense of engagement and community within the organization. The \n",
    "HR team can use the collected votes to acknowledge and appreciate the efforts of outstanding \n",
    "employees in various aspects of their work\n"
   ]
  },
  {
   "cell_type": "markdown",
   "metadata": {},
   "source": []
  },
  {
   "cell_type": "code",
   "execution_count": 1,
   "metadata": {},
   "outputs": [
    {
     "ename": "ValueError",
     "evalue": "invalid literal for int() with base 10: ''",
     "output_type": "error",
     "traceback": [
      "\u001b[1;31m---------------------------------------------------------------------------\u001b[0m",
      "\u001b[1;31mValueError\u001b[0m                                Traceback (most recent call last)",
      "Cell \u001b[1;32mIn[1], line 4\u001b[0m\n\u001b[0;32m      1\u001b[0m Jamatain \u001b[38;5;241m=\u001b[39m [\u001b[38;5;124m\"\u001b[39m\u001b[38;5;124mCandidate A\u001b[39m\u001b[38;5;124m\"\u001b[39m, \u001b[38;5;124m\"\u001b[39m\u001b[38;5;124mCandidate B\u001b[39m\u001b[38;5;124m\"\u001b[39m, \u001b[38;5;124m\"\u001b[39m\u001b[38;5;124mCandidate C\u001b[39m\u001b[38;5;124m\"\u001b[39m]\n\u001b[0;32m      2\u001b[0m votes \u001b[38;5;241m=\u001b[39m {jamat: \u001b[38;5;241m0\u001b[39m \u001b[38;5;28;01mfor\u001b[39;00m jamat \u001b[38;5;129;01min\u001b[39;00m Jamatain}\n\u001b[1;32m----> 4\u001b[0m num_of_voters \u001b[38;5;241m=\u001b[39m \u001b[38;5;28;43mint\u001b[39;49m\u001b[43m(\u001b[49m\u001b[38;5;28;43minput\u001b[39;49m\u001b[43m(\u001b[49m\u001b[38;5;124;43m\"\u001b[39;49m\u001b[38;5;124;43mGive vote to your candidate: \u001b[39;49m\u001b[38;5;124;43m\"\u001b[39;49m\u001b[43m)\u001b[49m\u001b[43m)\u001b[49m\n\u001b[0;32m      5\u001b[0m \u001b[38;5;28;01mfor\u001b[39;00m vt \u001b[38;5;129;01min\u001b[39;00m \u001b[38;5;28mrange\u001b[39m(num_of_voters):\n\u001b[0;32m      6\u001b[0m     \u001b[38;5;28mprint\u001b[39m(\u001b[38;5;124m\"\u001b[39m\u001b[38;5;124mJamatain:\u001b[39m\u001b[38;5;124m\"\u001b[39m)\n",
      "\u001b[1;31mValueError\u001b[0m: invalid literal for int() with base 10: ''"
     ]
    }
   ],
   "source": [
    "candidates = [\"Candidate A\", \"Candidate B\", \"Candidate C\"]\n",
    "votes = {candidate: 0 for candidate in candidates}\n",
    "\n",
    "num_of_voters = int(input(\"Give vote to your candidate: \"))\n",
    "for vt in range(num_of_voters):\n",
    "    print(\"candidates:\")\n",
    "    for i, candidate in enumerate(candidates, start=1):\n",
    "        print(f\"{i}. {candidate}\")\n",
    "\n",
    "    vote = int(input(\"Enter the number corresponding to your vote : \" ))\n",
    "    if 1 <= vote <= len(candidates):\n",
    "        selected_candidate = candidates[vote - 1]\n",
    "        votes[selected_candidate] += 1\n",
    "        print(f\"Vote for {selected_candidate} recorded\")\n",
    "    else:\n",
    "        print(\"Invalid Number\")\n",
    "\n",
    "max_votes = max(votes.values())\n",
    "for candidate, vote_count in votes.items():\n",
    "    print(f\"{candidate}. {vote_count} votes\")\n",
    "for index, (candidate, vote_count) in enumerate(votes.items()):\n",
    "    if vote_count == max_votes:\n",
    "        print(f\"{candidate} has the most votes {max_votes} ! Hurry, you are the winner of the Year!\")\n",
    "    \n",
    "        "
   ]
  }
 ],
 "metadata": {
  "kernelspec": {
   "display_name": "Python 3 (ipykernel)",
   "language": "python",
   "name": "python3"
  },
  "language_info": {
   "codemirror_mode": {
    "name": "ipython",
    "version": 3
   },
   "file_extension": ".py",
   "mimetype": "text/x-python",
   "name": "python",
   "nbconvert_exporter": "python",
   "pygments_lexer": "ipython3",
   "version": "3.11.7"
  }
 },
 "nbformat": 4,
 "nbformat_minor": 2
}
